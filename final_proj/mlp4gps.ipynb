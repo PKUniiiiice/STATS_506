{
 "cells": [
  {
   "cell_type": "code",
   "execution_count": 171,
   "metadata": {},
   "outputs": [],
   "source": [
    "import torch.nn as nn\n",
    "import torch\n",
    "import numpy as np\n",
    "import pandas as pd\n",
    "import torch.optim as optim\n",
    "import torch.utils.data as data_utils\n"
   ]
  },
  {
   "cell_type": "code",
   "execution_count": 172,
   "metadata": {},
   "outputs": [],
   "source": [
    "df = pd.read_csv(\"~/Desktop/CI Final Proj/Causal-Inference-Project/train2.txt\",\n",
    "                     header=0, sep=\" \")\n"
   ]
  },
  {
   "cell_type": "code",
   "execution_count": 173,
   "metadata": {},
   "outputs": [
    {
     "data": {
      "text/html": [
       "<div>\n",
       "<style scoped>\n",
       "    .dataframe tbody tr th:only-of-type {\n",
       "        vertical-align: middle;\n",
       "    }\n",
       "\n",
       "    .dataframe tbody tr th {\n",
       "        vertical-align: top;\n",
       "    }\n",
       "\n",
       "    .dataframe thead th {\n",
       "        text-align: right;\n",
       "    }\n",
       "</style>\n",
       "<table border=\"1\" class=\"dataframe\">\n",
       "  <thead>\n",
       "    <tr style=\"text-align: right;\">\n",
       "      <th></th>\n",
       "      <th>swimDistance</th>\n",
       "      <th>rideDistance</th>\n",
       "      <th>winPoints</th>\n",
       "      <th>killPoints</th>\n",
       "      <th>matchDuration</th>\n",
       "      <th>weaponsAcquired</th>\n",
       "      <th>boosts</th>\n",
       "      <th>walkDistance</th>\n",
       "    </tr>\n",
       "  </thead>\n",
       "  <tbody>\n",
       "    <tr>\n",
       "      <th>1</th>\n",
       "      <td>76.84</td>\n",
       "      <td>1228.0000</td>\n",
       "      <td>1462</td>\n",
       "      <td>986</td>\n",
       "      <td>1886</td>\n",
       "      <td>6</td>\n",
       "      <td>1</td>\n",
       "      <td>2050.0</td>\n",
       "    </tr>\n",
       "    <tr>\n",
       "      <th>2</th>\n",
       "      <td>4.39</td>\n",
       "      <td>4496.0000</td>\n",
       "      <td>1561</td>\n",
       "      <td>1329</td>\n",
       "      <td>1844</td>\n",
       "      <td>7</td>\n",
       "      <td>4</td>\n",
       "      <td>3365.0</td>\n",
       "    </tr>\n",
       "    <tr>\n",
       "      <th>3</th>\n",
       "      <td>16.03</td>\n",
       "      <td>0.0064</td>\n",
       "      <td>1563</td>\n",
       "      <td>1226</td>\n",
       "      <td>1441</td>\n",
       "      <td>7</td>\n",
       "      <td>0</td>\n",
       "      <td>3639.0</td>\n",
       "    </tr>\n",
       "    <tr>\n",
       "      <th>4</th>\n",
       "      <td>80.55</td>\n",
       "      <td>619.6000</td>\n",
       "      <td>1505</td>\n",
       "      <td>1318</td>\n",
       "      <td>1382</td>\n",
       "      <td>3</td>\n",
       "      <td>7</td>\n",
       "      <td>3086.0</td>\n",
       "    </tr>\n",
       "    <tr>\n",
       "      <th>5</th>\n",
       "      <td>20.19</td>\n",
       "      <td>1753.0000</td>\n",
       "      <td>1461</td>\n",
       "      <td>1087</td>\n",
       "      <td>1902</td>\n",
       "      <td>3</td>\n",
       "      <td>4</td>\n",
       "      <td>2280.0</td>\n",
       "    </tr>\n",
       "    <tr>\n",
       "      <th>...</th>\n",
       "      <td>...</td>\n",
       "      <td>...</td>\n",
       "      <td>...</td>\n",
       "      <td>...</td>\n",
       "      <td>...</td>\n",
       "      <td>...</td>\n",
       "      <td>...</td>\n",
       "      <td>...</td>\n",
       "    </tr>\n",
       "    <tr>\n",
       "      <th>6724</th>\n",
       "      <td>141.40</td>\n",
       "      <td>372.2000</td>\n",
       "      <td>1505</td>\n",
       "      <td>1018</td>\n",
       "      <td>1354</td>\n",
       "      <td>6</td>\n",
       "      <td>2</td>\n",
       "      <td>3528.0</td>\n",
       "    </tr>\n",
       "    <tr>\n",
       "      <th>6725</th>\n",
       "      <td>24.02</td>\n",
       "      <td>1867.0000</td>\n",
       "      <td>1617</td>\n",
       "      <td>1304</td>\n",
       "      <td>1822</td>\n",
       "      <td>6</td>\n",
       "      <td>0</td>\n",
       "      <td>2763.0</td>\n",
       "    </tr>\n",
       "    <tr>\n",
       "      <th>6726</th>\n",
       "      <td>67.82</td>\n",
       "      <td>214.2000</td>\n",
       "      <td>1516</td>\n",
       "      <td>1066</td>\n",
       "      <td>1896</td>\n",
       "      <td>0</td>\n",
       "      <td>0</td>\n",
       "      <td>121.9</td>\n",
       "    </tr>\n",
       "    <tr>\n",
       "      <th>6727</th>\n",
       "      <td>10.40</td>\n",
       "      <td>1913.0000</td>\n",
       "      <td>1423</td>\n",
       "      <td>996</td>\n",
       "      <td>1782</td>\n",
       "      <td>8</td>\n",
       "      <td>2</td>\n",
       "      <td>3938.0</td>\n",
       "    </tr>\n",
       "    <tr>\n",
       "      <th>6728</th>\n",
       "      <td>27.51</td>\n",
       "      <td>1748.0000</td>\n",
       "      <td>1498</td>\n",
       "      <td>1062</td>\n",
       "      <td>1868</td>\n",
       "      <td>9</td>\n",
       "      <td>2</td>\n",
       "      <td>2184.0</td>\n",
       "    </tr>\n",
       "  </tbody>\n",
       "</table>\n",
       "<p>6728 rows × 8 columns</p>\n",
       "</div>"
      ],
      "text/plain": [
       "      swimDistance  rideDistance  winPoints  killPoints  matchDuration  \\\n",
       "1            76.84     1228.0000       1462         986           1886   \n",
       "2             4.39     4496.0000       1561        1329           1844   \n",
       "3            16.03        0.0064       1563        1226           1441   \n",
       "4            80.55      619.6000       1505        1318           1382   \n",
       "5            20.19     1753.0000       1461        1087           1902   \n",
       "...            ...           ...        ...         ...            ...   \n",
       "6724        141.40      372.2000       1505        1018           1354   \n",
       "6725         24.02     1867.0000       1617        1304           1822   \n",
       "6726         67.82      214.2000       1516        1066           1896   \n",
       "6727         10.40     1913.0000       1423         996           1782   \n",
       "6728         27.51     1748.0000       1498        1062           1868   \n",
       "\n",
       "      weaponsAcquired  boosts  walkDistance  \n",
       "1                   6       1        2050.0  \n",
       "2                   7       4        3365.0  \n",
       "3                   7       0        3639.0  \n",
       "4                   3       7        3086.0  \n",
       "5                   3       4        2280.0  \n",
       "...               ...     ...           ...  \n",
       "6724                6       2        3528.0  \n",
       "6725                6       0        2763.0  \n",
       "6726                0       0         121.9  \n",
       "6727                8       2        3938.0  \n",
       "6728                9       2        2184.0  \n",
       "\n",
       "[6728 rows x 8 columns]"
      ]
     },
     "execution_count": 173,
     "metadata": {},
     "output_type": "execute_result"
    }
   ],
   "source": [
    "df"
   ]
  },
  {
   "cell_type": "code",
   "execution_count": 174,
   "metadata": {},
   "outputs": [],
   "source": [
    "model_mlp = nn.Sequential(\n",
    "                nn.Linear(7, 128),\n",
    "                nn.ReLU(),\n",
    "                #nn.Linear(64, 128),\n",
    "                #nn.ReLU(),\n",
    "                nn.Linear(128, 32),\n",
    "                nn.ReLU(),\n",
    "                #nn.Linear(64, 32),\n",
    "                #nn.ReLU(),\n",
    "                nn.Linear(32, 16),\n",
    "                nn.ReLU(),\n",
    "                nn.Linear(16, 1),\n",
    ")"
   ]
  },
  {
   "cell_type": "code",
   "execution_count": 175,
   "metadata": {},
   "outputs": [
    {
     "name": "stdout",
     "output_type": "stream",
     "text": [
      "Sequential(\n",
      "  (0): Linear(in_features=7, out_features=128, bias=True)\n",
      "  (1): ReLU()\n",
      "  (2): Linear(in_features=128, out_features=32, bias=True)\n",
      "  (3): ReLU()\n",
      "  (4): Linear(in_features=32, out_features=16, bias=True)\n",
      "  (5): ReLU()\n",
      "  (6): Linear(in_features=16, out_features=1, bias=True)\n",
      ")\n"
     ]
    }
   ],
   "source": [
    "print(model_mlp)"
   ]
  },
  {
   "cell_type": "code",
   "execution_count": 189,
   "metadata": {},
   "outputs": [],
   "source": [
    "# Creating np arrays\n",
    "target = df['walkDistance'].values\n",
    "features = df.iloc[:,0:7].values\n",
    "\n",
    "# Passing to DataLoader\n",
    "data = data_utils.TensorDataset(torch.Tensor(features), torch.Tensor(target),)\n",
    "train_data, test_data = data_utils.random_split(data, [6000, len(target)-6000])\n",
    "train_loader = data_utils.DataLoader(train_data, batch_size=632, shuffle=True)\n",
    "test_loader = data_utils.DataLoader(test_data, batch_size=32, shuffle=False)\n",
    "\n"
   ]
  },
  {
   "cell_type": "code",
   "execution_count": 177,
   "metadata": {},
   "outputs": [
    {
     "data": {
      "text/plain": [
       "(6728, 8)"
      ]
     },
     "execution_count": 177,
     "metadata": {},
     "output_type": "execute_result"
    }
   ],
   "source": [
    "df.shape"
   ]
  },
  {
   "cell_type": "code",
   "execution_count": 178,
   "metadata": {},
   "outputs": [],
   "source": [
    "# create your optimizer\n",
    "optimizer = optim.SGD(model_mlp.parameters(), lr=0.1)\n",
    "scheduler = optim.lr_scheduler.StepLR(optimizer, step_size=50, gamma=0.6)\n",
    "criterion = nn.MSELoss()\n",
    "epochs=400\n",
    "device=torch.device(\"cpu\")"
   ]
  },
  {
   "cell_type": "code",
   "execution_count": 190,
   "metadata": {},
   "outputs": [],
   "source": [
    "model_mlp = model_mlp.to(device)\n",
    "train_l = []\n",
    "test_l = []\n",
    "for _ in range(epochs):\n",
    "    total_loss = 0.0\n",
    "    model_mlp.train()\n",
    "    for fea, targ in train_loader:\n",
    "        \n",
    "        fea = fea.to(device)\n",
    "        targ = targ.to(device)\n",
    "        #print(fea, targ)\n",
    "        optimizer.zero_grad()\n",
    "        outputs = model_mlp(fea).view(-1)\n",
    "        #print(fea.size(), targ.size(), outputs.size())\n",
    "        loss = criterion(outputs, targ)\n",
    "        loss.backward()\n",
    "\n",
    "        nn.utils.clip_grad_norm_(model_mlp.parameters(), 10)\n",
    "        optimizer.step()\n",
    "        #print(target, outputs)\n",
    "\n",
    "        total_loss += loss.item()*fea.size(0)\n",
    "    \n",
    "    #print(f\"train epoch loss: {total_loss/len(train_loader.dataset)}\")\n",
    "    train_l.append(total_loss/len(train_loader.dataset))\n",
    "\n",
    "    model_mlp.eval()\n",
    "    total_loss = 0.0\n",
    "    for fea, targ in test_loader:\n",
    "        fea = fea.to(device)\n",
    "        targ = targ.to(device)\n",
    "        outputs = model_mlp(fea).view(-1)\n",
    "        loss2 = criterion(outputs, targ)\n",
    " \n",
    "        total_loss += loss2.item()*fea.size(0)\n",
    "\n",
    "    #print(f\"test epoch loss: {total_loss/len(test_loader.dataset)}\")\n",
    "    test_l.append(total_loss/len(test_loader.dataset))\n",
    "\n",
    "    scheduler.step()\n",
    "    \n"
   ]
  },
  {
   "cell_type": "code",
   "execution_count": 191,
   "metadata": {},
   "outputs": [
    {
     "data": {
      "text/plain": [
       "tensor([2180.8035, 1936.3199, 1487.4066, 3328.1887, 1785.0059, 3020.5430,\n",
       "        1893.6500, 2804.1160, 1789.9668, 2019.7899, 1582.1713, 1824.7512,\n",
       "        1872.3176, 2335.4717, 2860.9614, 3458.7566, 2465.1870, 2627.3521,\n",
       "        2875.3088, 2917.5881, 2024.7617, 2763.6274, 3493.3821, 2882.5776],\n",
       "       grad_fn=<ViewBackward0>)"
      ]
     },
     "execution_count": 191,
     "metadata": {},
     "output_type": "execute_result"
    }
   ],
   "source": [
    "outputs"
   ]
  },
  {
   "cell_type": "code",
   "execution_count": 192,
   "metadata": {},
   "outputs": [
    {
     "data": {
      "text/plain": [
       "array([2050. , 3365. , 3639. , ...,  121.9, 3938. , 2184. ])"
      ]
     },
     "execution_count": 192,
     "metadata": {},
     "output_type": "execute_result"
    }
   ],
   "source": [
    "target"
   ]
  },
  {
   "cell_type": "code",
   "execution_count": 182,
   "metadata": {},
   "outputs": [
    {
     "data": {
      "text/plain": [
       "5697"
      ]
     },
     "execution_count": 182,
     "metadata": {},
     "output_type": "execute_result"
    }
   ],
   "source": [
    "sum(p.numel() for p in model_mlp.parameters() if p.requires_grad)"
   ]
  },
  {
   "cell_type": "code",
   "execution_count": 187,
   "metadata": {},
   "outputs": [
    {
     "data": {
      "text/plain": [
       "tensor([3160.3225, 3528.2749, 2207.6387, 1971.2952, 5066.0044, 1854.6267,\n",
       "        3038.5320, 2320.0178, 2995.0820, 2092.6091, 1683.5736, 2785.2534,\n",
       "        3444.6956, 2055.5273, 2783.6892, 1866.8429, 4681.4150, 1884.9951,\n",
       "        2807.5095, 2707.5310, 2016.5957, 4200.8340, 2111.4316, 1829.5536,\n",
       "        1831.5734, 2929.4033, 1957.4291, 2997.7002], grad_fn=<ViewBackward0>)"
      ]
     },
     "execution_count": 187,
     "metadata": {},
     "output_type": "execute_result"
    }
   ],
   "source": [
    "outputs"
   ]
  },
  {
   "cell_type": "code",
   "execution_count": 188,
   "metadata": {},
   "outputs": [
    {
     "data": {
      "text/plain": [
       "array([2050. , 3365. , 3639. , ...,  121.9, 3938. , 2184. ])"
      ]
     },
     "execution_count": 188,
     "metadata": {},
     "output_type": "execute_result"
    }
   ],
   "source": [
    "target"
   ]
  },
  {
   "cell_type": "code",
   "execution_count": 183,
   "metadata": {},
   "outputs": [
    {
     "data": {
      "text/plain": [
       "<AxesSubplot: >"
      ]
     },
     "execution_count": 183,
     "metadata": {},
     "output_type": "execute_result"
    },
    {
     "data": {
      "image/png": "[encoded data removed]",
      "text/plain": [
       "<Figure size 640x480 with 1 Axes>"
      ]
     },
     "metadata": {},
     "output_type": "display_data"
    }
   ],
   "source": [
    "pp = pd.DataFrame({\"train\":train_l, \"test\":test_l})\n",
    "pp.iloc[25:,].plot()"
   ]
  },
  {
   "cell_type": "markdown",
   "metadata": {},
   "source": []
  },
  {
   "cell_type": "code",
   "execution_count": 186,
   "metadata": {},
   "outputs": [
    {
     "data": {
      "text/plain": [
       "1632940.4100274725"
      ]
     },
     "execution_count": 186,
     "metadata": {},
     "output_type": "execute_result"
    }
   ],
   "source": [
    "test_l[-1]"
   ]
  },
  {
   "cell_type": "code",
   "execution_count": null,
   "metadata": {},
   "outputs": [],
   "source": []
  }
 ],
 "metadata": {
  "kernelspec": {
   "display_name": "Python 3",
   "language": "python",
   "name": "python3"
  },
  "language_info": {
   "codemirror_mode": {
    "name": "ipython",
    "version": 3
   },
   "file_extension": ".py",
   "mimetype": "text/x-python",
   "name": "python",
   "nbconvert_exporter": "python",
   "pygments_lexer": "ipython3",
   "version": "3.10.8"
  },
  "orig_nbformat": 4,
  "vscode": {
   "interpreter": {
    "hash": "aee8b7b246df8f9039afb4144a1f6fd8d2ca17a180786b69acc140d282b71a49"
   }
  }
 },
 "nbformat": 4,
 "nbformat_minor": 2
}
